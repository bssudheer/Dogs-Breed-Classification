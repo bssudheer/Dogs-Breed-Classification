{
 "cells": [
  {
   "cell_type": "markdown",
   "metadata": {},
   "source": [
    "<h2>Deploying Your Computer Vision Model on IBM Cloud</h2>\n",
    "<p>For the capstone project, we will be training a custom classifier using Watson Visual Recognition to identify <b>Dogs</b> and <b>Non-Dogs</b>. After training your model you are then going to connect your trained custom classifier to a <b>Flask</b> app. <b>Flask</b> is a python web framework used for making web apps. You are then going to deploy your <b>Flask</b> app to IBM Cloud. Once your app is deployed on IBM Cloud you can access your <b>Flask</b> app via a webpage anywhere using a custom link.</p>"
   ]
  },
  {
   "cell_type": "markdown",
   "metadata": {},
   "source": [
    "<div class=\"alert alert-block alert-info\" style=\"margin-top: 20px\">\n",
    "<font size=\"3\"><strong>Click on the links to go to the following sections:</strong></font>\n",
    "<br>\n",
    "<h2>Table of Contents</h2>\n",
    "<ol>\n",
    "    <li><a href=\"#ref1\">Part 1 - Training Your Custom Model</a></li>\n",
    "    <li><a href=\"#ref2\">Part 2 - Downloading and Configuring the Flask Web App</a></li>\n",
    "    <li><a href=\"#ref4\">Part 3 - Deploying Your Web App to IBM Cloud</a></li>\n",
    "</ol>    \n",
    "</div>\n"
   ]
  },
  {
   "cell_type": "markdown",
   "metadata": {},
   "source": [
    "<a id=\"ref1\"></a>\n",
    "\n",
    "<h2>Part 1 - Training Your Custom Model</h2>\n",
    "<p>For the first part of our project, We have to obtain a dataset of <b>Dogs with different breeds</b> and <b>Non-Dogs</b>. Next, you need to create a custom classifier based upon this dataset and train your custom model with this dataset. Creating and training a custom classifier has been covered in previous modules of this course. Make sure your custom visual recognition model classifies <b>Dogs with different breeds</b> and <b>Non-Dogs</b> correctly, because if our trained custom classifier can identify a piece of <b>Dogs with different breeds</b> and <b>Non-Dogs</b> correctly with a high level of confidence. Also note the classifier id for this custom classifier as you will use this to connect your web app to your custom classifier in the next part.</p>\n"
   ]
  },
  {
   "cell_type": "markdown",
   "metadata": {},
   "source": [
    "<a id=\"ref2\"></a>\n",
    "\n",
    "<h2>Part 2 - Downloading and Configuring the Flask Web App</h2>\n",
    "<p>Once you are done training your custom classifier, you will have to deploy it on the web and provide a graphical user interface for people to interact with it. <b>Flask</b> is a lightweight web framework that allows us to do that. You will connect the web app with your custom classifier and deploy the app to IBM Cloud. By deploying the app to IBM Cloud, you could share your web app with your peers by simply sharing a link with them. \n",
    "\n",
    "<p>The code below downloads and unzips the Flask web app</p>\n"
   ]
  },
  {
   "cell_type": "markdown",
   "metadata": {},
   "source": [
    "<h3>Downloading your Flask App</h3>\n"
   ]
  },
  {
   "cell_type": "code",
   "execution_count": 1,
   "metadata": {},
   "outputs": [
    {
     "name": "stdout",
     "output_type": "stream",
     "text": [
      "Requirement already satisfied: wget in /home/jupyterlab/conda/envs/python/lib/python3.6/site-packages (3.2)\n"
     ]
    }
   ],
   "source": [
    "!pip install wget"
   ]
  },
  {
   "cell_type": "code",
   "execution_count": 2,
   "metadata": {},
   "outputs": [],
   "source": [
    "import wget, zipfile, os\n",
    "\n",
    "filename = wget.download('https://cf-courses-data.s3.us.cloud-object-storage.appdomain.cloud/IBMDeveloperSkillsNetwork-CV0101EN-SkillsNetwork/labs/FinalAssignment/resources/CV0101EN-capstone-project.zip')\n",
    "with zipfile.ZipFile(filename,\"r\") as zip_ref:\n",
    "    zip_ref.extractall()"
   ]
  },
  {
   "cell_type": "markdown",
   "metadata": {},
   "source": [
    "<h3>Configuring Your Flask App</h3>\n",
    "<p>In order to deploy your custom classifier, We need to give your Flask app permission to access it.</p>\n",
    "\n",
    "<p>At this point, you should see a folder of your web app (CV0101EN-capstone-project) listed in the files directory in the left-sidebar of the JupyterLab environment. If this side menu is hidden, you can go to <code>View>View Left-Sidebar</code>. Select the <code>CV0101EN-capstone-project</code>, and click on the <code>app</code> subfolder. You will see a file called <b>config.py</b>. Fill in <code>API_KEY</code> with your Watson Visual Recognition API_KEY, and <code>CLASSIFIER_ID</code> you noted down in part 1 of this notebook</p>\n"
   ]
  },
  {
   "cell_type": "markdown",
   "metadata": {},
   "source": [
    "<a id=\"ref4\"></a>\n",
    "\n",
    "<h2>Part 3 - Deploying Your Web App to IBM Cloud</h2>\n",
    "<p> For the last part of our capstone project, We will deploy your web app to IBM Cloud in order for your peers to access it.\n",
    "    \n",
    "<p>In order to deploy your project to the cloud, in the code cell below replace <code>email</code> and <code>password</code> with your email and password that you use for logging in to IBM Cloud\n",
    "</p>\n"
   ]
  },
  {
   "cell_type": "code",
   "execution_count": 3,
   "metadata": {},
   "outputs": [
    {
     "name": "stdout",
     "output_type": "stream",
     "text": [
      "API endpoint: https://cloud.ibm.com\n",
      "\n",
      "Email> bssudheer1999@gmail.com\n",
      "\n",
      "Password> \n",
      "Authenticating...\n",
      "OK\n",
      "\n",
      "Targeted account Sudheer Reddy B S's Account (2e1ff83ed4aa44c8b95c578733702043)\n",
      "\n",
      "                      \n",
      "API endpoint:      https://cloud.ibm.com   \n",
      "Region:               \n",
      "User:              bssudheer1999@gmail.com   \n",
      "Account:           Sudheer Reddy B S's Account (2e1ff83ed4aa44c8b95c578733702043)   \n",
      "Resource group:    No resource group targeted, use 'ibmcloud target -g RESOURCE_GROUP'   \n",
      "CF API endpoint:      \n",
      "Org:                  \n",
      "Space:                \n",
      "\n",
      "We'd like to collect usage statistics to help improve the IBM Cloud CLI.\n",
      "This data will never be shared outside IBM.\n",
      "To learn more, see the IBM Privacy Policy: https://www.ibm.com/privacy\n",
      "You can enable or disable usage data collection by running 'ibmcloud config --usage-stats-collect [true | false]'\n",
      "\n",
      "Do you want to send usage statistics to IBM? [y/n]> \n"
     ]
    }
   ],
   "source": [
    "%%bash\n",
    "ibmcloud config --check-version=false\n",
    "ibmcloud login --no-region\n"
   ]
  },
  {
   "cell_type": "code",
   "execution_count": 4,
   "metadata": {},
   "outputs": [
    {
     "name": "stdout",
     "output_type": "stream",
     "text": [
      "Getting orgs in all regions as bssudheer1999@gmail.com...\n",
      "Retrieving current account...\n",
      "OK\n",
      "\n",
      "Name                      Region   Account owner             Account ID                         Status   \n",
      "bssudheer1999@gmail.com   eu-gb    bssudheer1999@gmail.com   2e1ff83ed4aa44c8b95c578733702043   active   \n",
      "\n"
     ]
    }
   ],
   "source": [
    "%%bash\n",
    "ibmcloud account orgs"
   ]
  },
  {
   "cell_type": "code",
   "execution_count": 6,
   "metadata": {},
   "outputs": [
    {
     "name": "stdout",
     "output_type": "stream",
     "text": [
      "Switched to region eu-gb\n",
      "\n",
      "Targeted Cloud Foundry (https://api.eu-gb.cf.cloud.ibm.com)\n",
      "\n",
      "Targeted org bssudheer1999@gmail.com\n",
      "\n",
      "\n",
      "                      \n",
      "API endpoint:      https://cloud.ibm.com   \n",
      "Region:            eu-gb   \n",
      "User:              bssudheer1999@gmail.com   \n",
      "Account:           Sudheer Reddy B S's Account (2e1ff83ed4aa44c8b95c578733702043)   \n",
      "Resource group:    No resource group targeted, use 'ibmcloud target -g RESOURCE_GROUP'   \n",
      "CF API endpoint:   https://api.eu-gb.cf.cloud.ibm.com (API version: 2.153.0)   \n",
      "Org:               bssudheer1999@gmail.com   \n",
      "Space:                \n"
     ]
    }
   ],
   "source": [
    "%%bash\n",
    "ibmcloud target --cf-api https://api.eu-gb.cf.cloud.ibm.com -r eu-gb -o bssudheer1999@gmail.com\n"
   ]
  },
  {
   "cell_type": "code",
   "execution_count": 7,
   "metadata": {},
   "outputs": [
    {
     "name": "stdout",
     "output_type": "stream",
     "text": [
      "Attempting to download Cloud Foundry CLI...\n",
      " 8.56 MiB / 8.56 MiB  100.00% 0s5s\n",
      "8973024 bytes downloaded\n",
      "Saved in /home/jupyterlab/.bluemix/tmp/cf_779018884/cf-cli_6.53.0_linux_x86-64.tgz\n",
      "Installing Cloud Foundry CLI...\n",
      "OK\n",
      "Cloud Foundry CLI is successfully installed\n",
      "Invoking 'cf help'...\n",
      "\n",
      "cf version 6.53.0+8e2b70a4a.2020-10-01, Cloud Foundry command line tool\n",
      "Usage: cf [global options] command [arguments...] [command options]\n",
      "\n",
      "\u001b[1mBefore getting started:\u001b[0m\n",
      "  config    login,l      target,t\n",
      "  help,h    logout,lo    \n",
      "\n",
      "\u001b[1mApplication lifecycle:\u001b[0m\n",
      "  apps,a        run-task,rt    events\n",
      "  push,p        logs           set-env,se\n",
      "  start,st      ssh            create-app-manifest\n",
      "  stop,sp       app            delete,d\n",
      "  restart,rs    env,e          \n",
      "  restage,rg    scale          \n",
      "\n",
      "\u001b[1mServices integration:\u001b[0m\n",
      "  marketplace,m        create-user-provided-service,cups\n",
      "  services,s           update-user-provided-service,uups\n",
      "  create-service,cs    create-service-key,csk\n",
      "  update-service       delete-service-key,dsk\n",
      "  delete-service,ds    service-keys,sk\n",
      "  service              service-key\n",
      "  bind-service,bs      bind-route-service,brs\n",
      "  unbind-service,us    unbind-route-service,urs\n",
      "\n",
      "\u001b[1mRoute and domain management:\u001b[0m\n",
      "  routes,r        delete-route    create-domain\n",
      "  domains         map-route       \n",
      "  create-route    unmap-route     \n",
      "\n",
      "\u001b[1mSpace management:\u001b[0m\n",
      "  spaces         create-space    set-space-role\n",
      "  space-users    delete-space    unset-space-role\n",
      "\n",
      "\u001b[1mOrg management:\u001b[0m\n",
      "  orgs,o       set-org-role\n",
      "  org-users    unset-org-role\n",
      "\n",
      "\u001b[1mCLI plugin management:\u001b[0m\n",
      "  plugins           add-plugin-repo      repo-plugins\n",
      "  install-plugin    list-plugin-repos    \n",
      "\n",
      "\u001b[1mCommands offered by installed plugins:\u001b[0m\n",
      "\n",
      "\u001b[1mGlobal options:\u001b[0m\n",
      "  --help, -h                         Show help\n",
      "  -v                                 Print API request diagnostics to stdout\n",
      "\n",
      "TIP: Use '\u001b[36;1mcf help -a\u001b[0m' to see all commands.\n",
      "Use 'ibmcloud cf install' to install and use a different version of Cloud Foundry CLI.\n"
     ]
    }
   ],
   "source": [
    "%%bash\n",
    "ibmcloud cf install\n",
    "ibmcloud cf \n"
   ]
  },
  {
   "cell_type": "code",
   "execution_count": 8,
   "metadata": {},
   "outputs": [
    {
     "name": "stdout",
     "output_type": "stream",
     "text": [
      "Targeted space computer-vision-app\n",
      "\n",
      "\n",
      "                      \n",
      "API endpoint:      https://cloud.ibm.com   \n",
      "Region:            eu-gb   \n",
      "User:              bssudheer1999@gmail.com   \n",
      "Account:           Sudheer Reddy B S's Account (2e1ff83ed4aa44c8b95c578733702043)   \n",
      "Resource group:    No resource group targeted, use 'ibmcloud target -g RESOURCE_GROUP'   \n",
      "CF API endpoint:   https://api.eu-gb.cf.cloud.ibm.com (API version: 2.153.0)   \n",
      "Org:               bssudheer1999@gmail.com   \n",
      "Space:             computer-vision-app   \n"
     ]
    }
   ],
   "source": [
    "%%bash\n",
    "ibmcloud target -s computer-vision-app"
   ]
  },
  {
   "cell_type": "markdown",
   "metadata": {},
   "source": [
    "<p><b>Important:</b> Please go to (/resources/labs/CV0101EN/CV0101EN-capstone-project/app) which appears in the right side of this notebook. Then open \"Manifest.yml\" file to modify XXX-computer-vision-app by replacing XXX with your name)<p>\n",
    "<p> Finally, run the code cell below to push your app to IBM Cloud. <b>Kindly run the code cell below. The cell might take a few minutes to run</b> </p>\n"
   ]
  },
  {
   "cell_type": "code",
   "execution_count": 9,
   "metadata": {},
   "outputs": [
    {
     "name": "stdout",
     "output_type": "stream",
     "text": [
      "Invoking 'cf push -f /resources/labs/CV0101EN/CV0101EN-capstone-project/app/manifest.yml'...\n",
      "\n",
      "Pushing from manifest to org \u001b[36;1mbssudheer1999@gmail.com\u001b[0m / space \u001b[36;1mcomputer-vision-app\u001b[0m as \u001b[36;1mbssudheer1999@gmail.com\u001b[0m...\n",
      "Using manifest file /resources/labs/CV0101EN/CV0101EN-capstone-project/app/manifest.yml\n",
      "Getting app info...\n",
      "Creating app with these attributes...\n",
      "\u001b[32m+ name:         dogs-breed-classification-app\u001b[0m\n",
      "  path:         /resources/labs/CV0101EN/CV0101EN-capstone-project/app\n",
      "  buildpacks:\n",
      "\u001b[32m+   python_buildpack\u001b[0m\n",
      "\u001b[32m+ command:      python3 server.py\u001b[0m\n",
      "\u001b[32m+ memory:       128M\u001b[0m\n",
      "  routes:\n",
      "\u001b[32m+   dogs-breed-classification-app.eu-gb.mybluemix.net\u001b[0m\n",
      "\n",
      "Creating app \u001b[36;1mdogs-breed-classification-app\u001b[0m...\n",
      "Mapping routes...\n",
      "Comparing local files to remote cache...\n",
      "Packaging files to upload...\n",
      "Uploading files...\n",
      " 39.00 KiB / 39.00 KiB  100.00% 1s\n",
      "\n",
      "Waiting for API to complete processing files...\n",
      "\n",
      "Staging app and tracing logs...\n",
      "   Downloading python_buildpack...\n",
      "   Downloaded python_buildpack\n",
      "   Cell 3fae733c-03e6-475a-87e8-86940e726e56 creating container for instance 47e7758b-f389-42d7-afb9-d08f2c74f150\n",
      "   Cell 3fae733c-03e6-475a-87e8-86940e726e56 successfully created container for instance 47e7758b-f389-42d7-afb9-d08f2c74f150\n",
      "   Downloading app package...\n",
      "   Downloaded app package (39K)\n",
      "   -----> Python Buildpack version 1.7.20\n",
      "   -----> Supplying Python\n",
      "   -----> Installing python 3.8.5\n",
      "          Download [https://buildpacks.cloudfoundry.org/dependencies/python/python_3.8.5_linux_x64_cflinuxfs3_08613f97.tgz]\n",
      "   -----> Installing pip-pop 0.1.5\n",
      "          Download [https://buildpacks.cloudfoundry.org/dependencies/manual-binaries/pip-pop/pip-pop-0.1.5-b32efe86.tar.gz]\n",
      "   -----> Running Pip Install\n",
      "          Collecting Flask==1.1.2\n",
      "            Downloading Flask-1.1.2-py2.py3-none-any.whl (94 kB)\n",
      "          Collecting Flask-WTF==0.14.3\n",
      "            Downloading Flask_WTF-0.14.3-py2.py3-none-any.whl (13 kB)\n",
      "          Collecting ibm-watson==4.4.1\n",
      "            Downloading ibm-watson-4.4.1.tar.gz (366 kB)\n",
      "          Collecting python-dotenv==0.13.0\n",
      "            Downloading python_dotenv-0.13.0-py2.py3-none-any.whl (17 kB)\n",
      "          Collecting itsdangerous>=0.24\n",
      "            Downloading itsdangerous-1.1.0-py2.py3-none-any.whl (16 kB)\n",
      "          Collecting Jinja2>=2.10.1\n",
      "            Downloading Jinja2-2.11.2-py2.py3-none-any.whl (125 kB)\n",
      "          Collecting Werkzeug>=0.15\n",
      "            Downloading Werkzeug-1.0.1-py2.py3-none-any.whl (298 kB)\n",
      "          Collecting click>=5.1\n",
      "            Downloading click-7.1.2-py2.py3-none-any.whl (82 kB)\n",
      "          Collecting WTForms\n",
      "            Downloading WTForms-2.3.3-py2.py3-none-any.whl (169 kB)\n",
      "          Collecting requests<3.0,>=2.0\n",
      "            Downloading requests-2.25.0-py2.py3-none-any.whl (61 kB)\n",
      "          Collecting python_dateutil>=2.5.3\n",
      "            Downloading python_dateutil-2.8.1-py2.py3-none-any.whl (227 kB)\n",
      "            Downloading websocket_client-0.48.0-py2.py3-none-any.whl (198 kB)\n",
      "          Collecting ibm_cloud_sdk_core==1.5.1\n",
      "            Downloading ibm-cloud-sdk-core-1.5.1.tar.gz (25 kB)\n",
      "          Collecting MarkupSafe>=0.23\n",
      "            Downloading MarkupSafe-1.1.1-cp38-cp38-manylinux1_x86_64.whl (32 kB)\n",
      "          Collecting idna<3,>=2.5\n",
      "            Downloading idna-2.10-py2.py3-none-any.whl (58 kB)\n",
      "          Collecting chardet<4,>=3.0.2\n",
      "            Downloading chardet-3.0.4-py2.py3-none-any.whl (133 kB)\n",
      "          Collecting certifi>=2017.4.17\n",
      "            Downloading certifi-2020.11.8-py2.py3-none-any.whl (155 kB)\n",
      "          Collecting urllib3<1.27,>=1.21.1\n",
      "            Downloading urllib3-1.26.2-py2.py3-none-any.whl (136 kB)\n",
      "          Collecting six>=1.5\n",
      "            Downloading six-1.15.0-py2.py3-none-any.whl (10 kB)\n",
      "          Collecting PyJWT>=1.7.1\n",
      "            Downloading PyJWT-1.7.1-py2.py3-none-any.whl (18 kB)\n",
      "          Using legacy setup.py install for ibm-watson, since package 'wheel' is not installed.\n",
      "          Using legacy setup.py install for ibm-cloud-sdk-core, since package 'wheel' is not installed.\n",
      "          Installing collected packages: itsdangerous, MarkupSafe, Jinja2, Werkzeug, click, Flask, WTForms, Flask-WTF, idna, chardet, certifi, urllib3, requests, six, python-dateutil, websocket-client, PyJWT, ibm-cloud-sdk-core, ibm-watson, python-dotenv\n",
      "   \u001b[31m         WARNING: The script flask is installed in '/tmp/contents541055860/deps/0/python/bin' which is not on PATH.\u001b[0m\n",
      "   \u001b[31m         Consider adding this directory to PATH or, if you prefer to suppress this warning, use --no-warn-script-location.\u001b[0m\n",
      "   \u001b[31m         WARNING: The script chardetect is installed in '/tmp/contents541055860/deps/0/python/bin' which is not on PATH.\u001b[0m\n",
      "   \u001b[31m         Consider adding this directory to PATH or, if you prefer to suppress this warning, use --no-warn-script-location.\u001b[0m\n",
      "   \u001b[31m         WARNING: The script pyjwt is installed in '/tmp/contents541055860/deps/0/python/bin' which is not on PATH.\u001b[0m\n",
      "   \u001b[31m         Consider adding this directory to PATH or, if you prefer to suppress this warning, use --no-warn-script-location.\u001b[0m\n",
      "              Running setup.py install for ibm-cloud-sdk-core: started\n",
      "              Running setup.py install for ibm-cloud-sdk-core: finished with status 'done'\n",
      "              Running setup.py install for ibm-watson: started\n",
      "              Running setup.py install for ibm-watson: finished with status 'done'\n",
      "   \u001b[31m         WARNING: The script dotenv is installed in '/tmp/contents541055860/deps/0/python/bin' which is not on PATH.\u001b[0m\n",
      "   \u001b[31m         Consider adding this directory to PATH or, if you prefer to suppress this warning, use --no-warn-script-location.\u001b[0m\n",
      "          Successfully installed Flask-1.1.2 Flask-WTF-0.14.3 Jinja2-2.11.2 MarkupSafe-1.1.1 PyJWT-1.7.1 WTForms-2.3.3 Werkzeug-1.0.1 certifi-2020.11.8 chardet-3.0.4 click-7.1.2 ibm-cloud-sdk-core-1.5.1 ibm-watson-4.4.1 idna-2.10 itsdangerous-1.1.0 python-dateutil-2.8.1 python-dotenv-0.13.0 requests-2.25.0 six-1.15.0 urllib3-1.26.2 websocket-client-0.48.0\n",
      "   \u001b[31m       WARNING: You are using pip version 20.1.1; however, version 20.2.4 is available.\u001b[0m\n",
      "   \u001b[31m       You should consider upgrading via the '/tmp/contents541055860/deps/0/bin/python -m pip install --upgrade pip' command.\u001b[0m\n",
      "   Exit status 0\n",
      "   Uploading droplet, build artifacts cache...\n",
      "   Uploading droplet...\n",
      "   Uploading build artifacts cache...\n",
      "   Uploaded build artifacts cache (57.2M)\n",
      "   Uploaded droplet (58.8M)\n",
      "   Uploading complete\n",
      "   Cell 3fae733c-03e6-475a-87e8-86940e726e56 stopping instance 47e7758b-f389-42d7-afb9-d08f2c74f150\n",
      "   Cell 3fae733c-03e6-475a-87e8-86940e726e56 destroying container for instance 47e7758b-f389-42d7-afb9-d08f2c74f150\n",
      "   Cell 3fae733c-03e6-475a-87e8-86940e726e56 successfully destroyed container for instance 47e7758b-f389-42d7-afb9-d08f2c74f150\n",
      "\n",
      "Waiting for app to start...\n",
      "\n",
      "name:              dogs-breed-classification-app\n",
      "requested state:   started\n",
      "routes:            dogs-breed-classification-app.eu-gb.mybluemix.net\n",
      "last uploaded:     Fri 13 Nov 07:01:23 UTC 2020\n",
      "stack:             cflinuxfs3\n",
      "buildpacks:        python\n",
      "\n",
      "type:            web\n",
      "instances:       1/1\n",
      "memory usage:    128M\n",
      "start command:   python3 server.py\n",
      "     \u001b[1mstate\u001b[0m     \u001b[1msince\u001b[0m                  \u001b[1mcpu\u001b[0m    \u001b[1mmemory\u001b[0m      \u001b[1mdisk\u001b[0m      \u001b[1mdetails\u001b[0m\n",
      "#0   running   2020-11-13T07:02:05Z   0.0%   0 of 128M   0 of 1G   \n",
      "\n"
     ]
    }
   ],
   "source": [
    "%%bash\n",
    "ibmcloud app push -f /resources/labs/CV0101EN/CV0101EN-capstone-project/app/manifest.yml  \n"
   ]
  },
  {
   "cell_type": "markdown",
   "metadata": {},
   "source": [
    "<br>\n",
    "<p> <b> An App is been pushed into the IBM CLoud Service Instance, where we caYou can share this url (should be the same as the route that you noted earlier) with your peers for them to evaluate your custom classifier </b> </p>\n",
    "<h1>Note!</h1>\n",
    "<p>You app will be only able to classify image file in .gif, .jpg, .png and .tif format, and will not return any result if the image is in any other format.</p>\n",
    "    \n",
    "<h4>Kindly upload a single image at a time to the web app<h4>\n"
   ]
  },
  {
   "cell_type": "markdown",
   "metadata": {},
   "source": [
    "## Thank you\n",
    "#### _Srinivas Sudheer Reddy B_"
   ]
  },
  {
   "cell_type": "code",
   "execution_count": null,
   "metadata": {},
   "outputs": [],
   "source": []
  }
 ],
 "metadata": {
  "kernelspec": {
   "display_name": "Python 3",
   "language": "python",
   "name": "python3"
  },
  "language_info": {
   "codemirror_mode": {
    "name": "ipython",
    "version": 3
   },
   "file_extension": ".py",
   "mimetype": "text/x-python",
   "name": "python",
   "nbconvert_exporter": "python",
   "pygments_lexer": "ipython3",
   "version": "3.7.4"
  }
 },
 "nbformat": 4,
 "nbformat_minor": 4
}
